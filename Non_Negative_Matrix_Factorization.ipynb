{
  "nbformat": 4,
  "nbformat_minor": 0,
  "metadata": {
    "colab": {
      "name": "Non-Negative-Matrix-Factorization.ipynb",
      "provenance": [],
      "collapsed_sections": [],
      "authorship_tag": "ABX9TyMdXNz87GyWGQWBBWkFfVCn",
      "include_colab_link": true
    },
    "kernelspec": {
      "name": "python3",
      "display_name": "Python 3"
    },
    "language_info": {
      "name": "python"
    }
  },
  "cells": [
    {
      "cell_type": "markdown",
      "metadata": {
        "id": "view-in-github",
        "colab_type": "text"
      },
      "source": [
        "<a href=\"https://colab.research.google.com/github/souparnabose99/topic-modelling-lda-nnmf/blob/main/Non_Negative_Matrix_Factorization.ipynb\" target=\"_parent\"><img src=\"https://colab.research.google.com/assets/colab-badge.svg\" alt=\"Open In Colab\"/></a>"
      ]
    },
    {
      "cell_type": "markdown",
      "metadata": {
        "id": "HrOMJnik65w_"
      },
      "source": [
        "Non Negative Matrix Factorization is an usupervised algorithm that simultaneously performs dimensionality reduction and clustering. It can be used in conjunction with TF-IDF for topic modelling across documents."
      ]
    },
    {
      "cell_type": "markdown",
      "metadata": {
        "id": "F2MtJZIp9aqU"
      },
      "source": [
        "### Load Libraries & Dataset:"
      ]
    },
    {
      "cell_type": "code",
      "metadata": {
        "colab": {
          "base_uri": "https://localhost:8080/"
        },
        "id": "Xs8uFWvK6wx4",
        "outputId": "49350a91-6897-4b62-e4ed-6f7f78d23021"
      },
      "source": [
        "import numpy as np\n",
        "import pandas as pd\n",
        "\n",
        "!wget https://media.githubusercontent.com/media/souparnabose99/topic-modelling-lda-nnmf/main/npr.csv"
      ],
      "execution_count": 1,
      "outputs": [
        {
          "output_type": "stream",
          "text": [
            "--2021-06-27 10:14:20--  https://media.githubusercontent.com/media/souparnabose99/topic-modelling-lda-nnmf/main/npr.csv\n",
            "Resolving media.githubusercontent.com (media.githubusercontent.com)... 185.199.108.133, 185.199.109.133, 185.199.110.133, ...\n",
            "Connecting to media.githubusercontent.com (media.githubusercontent.com)|185.199.108.133|:443... connected.\n",
            "HTTP request sent, awaiting response... 200 OK\n",
            "Length: 55511119 (53M) [text/plain]\n",
            "Saving to: ‘npr.csv’\n",
            "\n",
            "npr.csv             100%[===================>]  52.94M   178MB/s    in 0.3s    \n",
            "\n",
            "2021-06-27 10:14:21 (178 MB/s) - ‘npr.csv’ saved [55511119/55511119]\n",
            "\n"
          ],
          "name": "stdout"
        }
      ]
    },
    {
      "cell_type": "code",
      "metadata": {
        "colab": {
          "base_uri": "https://localhost:8080/",
          "height": 359
        },
        "id": "7BGkpP0G9nkk",
        "outputId": "64159f10-9e6e-4956-b62d-91870e247be8"
      },
      "source": [
        "df = pd.read_csv('npr.csv')\n",
        "df.head(10)"
      ],
      "execution_count": 2,
      "outputs": [
        {
          "output_type": "execute_result",
          "data": {
            "text/html": [
              "<div>\n",
              "<style scoped>\n",
              "    .dataframe tbody tr th:only-of-type {\n",
              "        vertical-align: middle;\n",
              "    }\n",
              "\n",
              "    .dataframe tbody tr th {\n",
              "        vertical-align: top;\n",
              "    }\n",
              "\n",
              "    .dataframe thead th {\n",
              "        text-align: right;\n",
              "    }\n",
              "</style>\n",
              "<table border=\"1\" class=\"dataframe\">\n",
              "  <thead>\n",
              "    <tr style=\"text-align: right;\">\n",
              "      <th></th>\n",
              "      <th>Article</th>\n",
              "    </tr>\n",
              "  </thead>\n",
              "  <tbody>\n",
              "    <tr>\n",
              "      <th>0</th>\n",
              "      <td>In the Washington of 2016, even when the polic...</td>\n",
              "    </tr>\n",
              "    <tr>\n",
              "      <th>1</th>\n",
              "      <td>Donald Trump has used Twitter  —   his prefe...</td>\n",
              "    </tr>\n",
              "    <tr>\n",
              "      <th>2</th>\n",
              "      <td>Donald Trump is unabashedly praising Russian...</td>\n",
              "    </tr>\n",
              "    <tr>\n",
              "      <th>3</th>\n",
              "      <td>Updated at 2:50 p. m. ET, Russian President Vl...</td>\n",
              "    </tr>\n",
              "    <tr>\n",
              "      <th>4</th>\n",
              "      <td>From photography, illustration and video, to d...</td>\n",
              "    </tr>\n",
              "    <tr>\n",
              "      <th>5</th>\n",
              "      <td>I did not want to join yoga class. I hated tho...</td>\n",
              "    </tr>\n",
              "    <tr>\n",
              "      <th>6</th>\n",
              "      <td>With a   who has publicly supported the debunk...</td>\n",
              "    </tr>\n",
              "    <tr>\n",
              "      <th>7</th>\n",
              "      <td>I was standing by the airport exit, debating w...</td>\n",
              "    </tr>\n",
              "    <tr>\n",
              "      <th>8</th>\n",
              "      <td>If movies were trying to be more realistic, pe...</td>\n",
              "    </tr>\n",
              "    <tr>\n",
              "      <th>9</th>\n",
              "      <td>Eighteen years ago, on New Year’s Eve, David F...</td>\n",
              "    </tr>\n",
              "  </tbody>\n",
              "</table>\n",
              "</div>"
            ],
            "text/plain": [
              "                                             Article\n",
              "0  In the Washington of 2016, even when the polic...\n",
              "1    Donald Trump has used Twitter  —   his prefe...\n",
              "2    Donald Trump is unabashedly praising Russian...\n",
              "3  Updated at 2:50 p. m. ET, Russian President Vl...\n",
              "4  From photography, illustration and video, to d...\n",
              "5  I did not want to join yoga class. I hated tho...\n",
              "6  With a   who has publicly supported the debunk...\n",
              "7  I was standing by the airport exit, debating w...\n",
              "8  If movies were trying to be more realistic, pe...\n",
              "9  Eighteen years ago, on New Year’s Eve, David F..."
            ]
          },
          "metadata": {
            "tags": []
          },
          "execution_count": 2
        }
      ]
    },
    {
      "cell_type": "markdown",
      "metadata": {
        "id": "Rflc0Wt3Bvok"
      },
      "source": [
        "### Perform TF-IDF vectorization:"
      ]
    },
    {
      "cell_type": "code",
      "metadata": {
        "id": "yMu4944T9sre"
      },
      "source": [
        "from sklearn.feature_extraction.text import TfidfVectorizer\n",
        "tfidf = TfidfVectorizer(max_df=0.95, min_df=2, stop_words='english')"
      ],
      "execution_count": 3,
      "outputs": []
    },
    {
      "cell_type": "code",
      "metadata": {
        "colab": {
          "base_uri": "https://localhost:8080/"
        },
        "id": "xgwwriQiCG6Y",
        "outputId": "a91df181-e862-4c22-96dc-56ed0e91710f"
      },
      "source": [
        "doc_term_mat = tfidf.fit_transform(df['Article'])\n",
        "doc_term_mat"
      ],
      "execution_count": 4,
      "outputs": [
        {
          "output_type": "execute_result",
          "data": {
            "text/plain": [
              "<11992x54777 sparse matrix of type '<class 'numpy.float64'>'\n",
              "\twith 3033388 stored elements in Compressed Sparse Row format>"
            ]
          },
          "metadata": {
            "tags": []
          },
          "execution_count": 4
        }
      ]
    },
    {
      "cell_type": "markdown",
      "metadata": {
        "id": "hQGN21bTCSmo"
      },
      "source": [
        "### Perform NMF:"
      ]
    },
    {
      "cell_type": "code",
      "metadata": {
        "id": "IKaHEdUECP_w"
      },
      "source": [
        "from sklearn.decomposition import NMF"
      ],
      "execution_count": 5,
      "outputs": []
    },
    {
      "cell_type": "code",
      "metadata": {
        "colab": {
          "base_uri": "https://localhost:8080/"
        },
        "id": "O1oSiFVfCad4",
        "outputId": "22bf1b7b-fcef-4aa8-c1d3-a6dd56bea894"
      },
      "source": [
        "nmf = NMF(n_components=8, random_state=100)\n",
        "nmf.fit(doc_term_mat)"
      ],
      "execution_count": 6,
      "outputs": [
        {
          "output_type": "execute_result",
          "data": {
            "text/plain": [
              "NMF(alpha=0.0, beta_loss='frobenius', init=None, l1_ratio=0.0, max_iter=200,\n",
              "    n_components=8, random_state=100, shuffle=False, solver='cd', tol=0.0001,\n",
              "    verbose=0)"
            ]
          },
          "metadata": {
            "tags": []
          },
          "execution_count": 6
        }
      ]
    },
    {
      "cell_type": "code",
      "metadata": {
        "colab": {
          "base_uri": "https://localhost:8080/",
          "height": 35
        },
        "id": "7JR88isICkfN",
        "outputId": "131defd8-4077-45e2-b9c3-6c2286de4686"
      },
      "source": [
        "tfidf.get_feature_names()[1800]"
      ],
      "execution_count": 10,
      "outputs": [
        {
          "output_type": "execute_result",
          "data": {
            "application/vnd.google.colaboratory.intrinsic+json": {
              "type": "string"
            },
            "text/plain": [
              "'adolf'"
            ]
          },
          "metadata": {
            "tags": []
          },
          "execution_count": 10
        }
      ]
    },
    {
      "cell_type": "code",
      "metadata": {
        "colab": {
          "base_uri": "https://localhost:8080/"
        },
        "id": "vABW90GVComc",
        "outputId": "80e0f702-572e-4a63-a3f8-e58e580062d9"
      },
      "source": [
        "for index, topic in enumerate(nmf.components_):\n",
        "  print(f\"The top 15 words for the Topic : {index+1}\")\n",
        "  print([tfidf.get_feature_names()[i] for i in topic.argsort()[-15:]])\n",
        "  print('\\n')"
      ],
      "execution_count": 11,
      "outputs": [
        {
          "output_type": "stream",
          "text": [
            "The top 15 words for the Topic : 1\n",
            "['year', 'workers', '000', 'china', 'company', 'study', 'just', 'years', 'new', 'percent', 'like', 'water', 'food', 'people', 'says']\n",
            "\n",
            "\n",
            "The top 15 words for the Topic : 2\n",
            "['gop', 'pence', 'russia', 'presidential', 'administration', 'election', 'republican', 'obama', 'white', 'house', 'donald', 'campaign', 'said', 'president', 'trump']\n",
            "\n",
            "\n",
            "The top 15 words for the Topic : 3\n",
            "['senate', 'house', 'act', 'people', 'tax', 'law', 'plan', 'republicans', 'affordable', 'obamacare', 'coverage', 'medicaid', 'insurance', 'care', 'health']\n",
            "\n",
            "\n",
            "The top 15 words for the Topic : 4\n",
            "['officers', 'security', 'syria', 'government', 'department', 'state', 'law', 'isis', 'russia', 'president', 'attack', 'reports', 'court', 'said', 'police']\n",
            "\n",
            "\n",
            "The top 15 words for the Topic : 5\n",
            "['cruz', 'primary', 'election', 'democrats', 'percent', 'party', 'delegates', 'vote', 'state', 'democratic', 'hillary', 'campaign', 'voters', 'sanders', 'clinton']\n",
            "\n",
            "\n",
            "The top 15 words for the Topic : 6\n",
            "['black', 'love', 'way', 'women', 'time', 'album', 'life', 'song', 'really', 'people', 'know', 'think', 'just', 'music', 'like']\n",
            "\n",
            "\n",
            "The top 15 words for the Topic : 7\n",
            "['state', 'child', 'teacher', 'high', 'parents', 'devos', 'children', 'college', 'kids', 'teachers', 'student', 'education', 'schools', 'school', 'students']\n",
            "\n",
            "\n",
            "The top 15 words for the Topic : 8\n",
            "['cdc', 'babies', 'infected', 'brazil', 'outbreak', 'pregnant', 'microcephaly', 'cases', 'mosquitoes', 'health', 'disease', 'mosquito', 'women', 'virus', 'zika']\n",
            "\n",
            "\n"
          ],
          "name": "stdout"
        }
      ]
    },
    {
      "cell_type": "markdown",
      "metadata": {
        "id": "WTl3bhbxDbe_"
      },
      "source": [
        "### Add Topic Labels:"
      ]
    },
    {
      "cell_type": "code",
      "metadata": {
        "colab": {
          "base_uri": "https://localhost:8080/"
        },
        "id": "4uhHc8ukDN7-",
        "outputId": "d93f3b6d-2030-4417-86ab-8ac653037d26"
      },
      "source": [
        "topic_results = nmf.transform(doc_term_mat)\n",
        "topic_results.argmax(axis=1)"
      ],
      "execution_count": 15,
      "outputs": [
        {
          "output_type": "execute_result",
          "data": {
            "text/plain": [
              "array([1, 1, 1, ..., 7, 4, 0])"
            ]
          },
          "metadata": {
            "tags": []
          },
          "execution_count": 15
        }
      ]
    },
    {
      "cell_type": "code",
      "metadata": {
        "colab": {
          "base_uri": "https://localhost:8080/",
          "height": 359
        },
        "id": "mdKMIOs3Dn2h",
        "outputId": "99a5d2a9-a8b7-40b9-b539-fc42c4998f48"
      },
      "source": [
        "df['Topic'] = topic_results.argmax(axis=1)\n",
        "df.head(10)"
      ],
      "execution_count": 16,
      "outputs": [
        {
          "output_type": "execute_result",
          "data": {
            "text/html": [
              "<div>\n",
              "<style scoped>\n",
              "    .dataframe tbody tr th:only-of-type {\n",
              "        vertical-align: middle;\n",
              "    }\n",
              "\n",
              "    .dataframe tbody tr th {\n",
              "        vertical-align: top;\n",
              "    }\n",
              "\n",
              "    .dataframe thead th {\n",
              "        text-align: right;\n",
              "    }\n",
              "</style>\n",
              "<table border=\"1\" class=\"dataframe\">\n",
              "  <thead>\n",
              "    <tr style=\"text-align: right;\">\n",
              "      <th></th>\n",
              "      <th>Article</th>\n",
              "      <th>Topic</th>\n",
              "    </tr>\n",
              "  </thead>\n",
              "  <tbody>\n",
              "    <tr>\n",
              "      <th>0</th>\n",
              "      <td>In the Washington of 2016, even when the polic...</td>\n",
              "      <td>1</td>\n",
              "    </tr>\n",
              "    <tr>\n",
              "      <th>1</th>\n",
              "      <td>Donald Trump has used Twitter  —   his prefe...</td>\n",
              "      <td>1</td>\n",
              "    </tr>\n",
              "    <tr>\n",
              "      <th>2</th>\n",
              "      <td>Donald Trump is unabashedly praising Russian...</td>\n",
              "      <td>1</td>\n",
              "    </tr>\n",
              "    <tr>\n",
              "      <th>3</th>\n",
              "      <td>Updated at 2:50 p. m. ET, Russian President Vl...</td>\n",
              "      <td>3</td>\n",
              "    </tr>\n",
              "    <tr>\n",
              "      <th>4</th>\n",
              "      <td>From photography, illustration and video, to d...</td>\n",
              "      <td>6</td>\n",
              "    </tr>\n",
              "    <tr>\n",
              "      <th>5</th>\n",
              "      <td>I did not want to join yoga class. I hated tho...</td>\n",
              "      <td>5</td>\n",
              "    </tr>\n",
              "    <tr>\n",
              "      <th>6</th>\n",
              "      <td>With a   who has publicly supported the debunk...</td>\n",
              "      <td>0</td>\n",
              "    </tr>\n",
              "    <tr>\n",
              "      <th>7</th>\n",
              "      <td>I was standing by the airport exit, debating w...</td>\n",
              "      <td>0</td>\n",
              "    </tr>\n",
              "    <tr>\n",
              "      <th>8</th>\n",
              "      <td>If movies were trying to be more realistic, pe...</td>\n",
              "      <td>0</td>\n",
              "    </tr>\n",
              "    <tr>\n",
              "      <th>9</th>\n",
              "      <td>Eighteen years ago, on New Year’s Eve, David F...</td>\n",
              "      <td>0</td>\n",
              "    </tr>\n",
              "  </tbody>\n",
              "</table>\n",
              "</div>"
            ],
            "text/plain": [
              "                                             Article  Topic\n",
              "0  In the Washington of 2016, even when the polic...      1\n",
              "1    Donald Trump has used Twitter  —   his prefe...      1\n",
              "2    Donald Trump is unabashedly praising Russian...      1\n",
              "3  Updated at 2:50 p. m. ET, Russian President Vl...      3\n",
              "4  From photography, illustration and video, to d...      6\n",
              "5  I did not want to join yoga class. I hated tho...      5\n",
              "6  With a   who has publicly supported the debunk...      0\n",
              "7  I was standing by the airport exit, debating w...      0\n",
              "8  If movies were trying to be more realistic, pe...      0\n",
              "9  Eighteen years ago, on New Year’s Eve, David F...      0"
            ]
          },
          "metadata": {
            "tags": []
          },
          "execution_count": 16
        }
      ]
    },
    {
      "cell_type": "code",
      "metadata": {
        "id": "-_sHNibAEA_j"
      },
      "source": [
        ""
      ],
      "execution_count": null,
      "outputs": []
    }
  ]
}